{
 "cells": [
  {
   "cell_type": "code",
   "execution_count": 1,
   "metadata": {},
   "outputs": [],
   "source": [
    "import pandas as pd\n",
    "import csv\n",
    "from FuzzySubstanceMatching import get_substances\n",
    "import make_train_data as tr\n",
    "import train_and_predict as tp\n",
    "import numpy as np"
   ]
  },
  {
   "cell_type": "code",
   "execution_count": null,
   "metadata": {},
   "outputs": [
    {
     "data": {
      "text/plain": [
       "0         Cisplatin\n",
       "1          Etoposid\n",
       "2       Carboplatin\n",
       "3    Calciumfolinat\n",
       "4          Avelumab\n",
       "Name: Bezeichnung, dtype: object"
      ]
     },
     "execution_count": 3,
     "metadata": {},
     "output_type": "execute_result"
    }
   ],
   "source": [
    "#Data from the R package \"Substance\"\n",
    "free_text_data = pd.read_csv(\"Test_Daten.csv\", sep=\";\")\n",
    "example_data = free_text_data[\"Bezeichnung\"] \n",
    "example_data.head()"
   ]
  },
  {
   "cell_type": "code",
   "execution_count": 4,
   "metadata": {},
   "outputs": [
    {
     "name": "stdout",
     "output_type": "stream",
     "text": [
      "['Abarelix', 'Abatacept', 'Abemaciclib']\n"
     ]
    }
   ],
   "source": [
    "URL_to_list = \"https://gitlab.opencode.de/robert-koch-institut/zentrum-fuer-krebsregisterdaten/cancerdata-references/-/raw/main/data/v2/Klassifikationen/substanz.csv?ref_type=heads\"\n",
    "reference_list = pd.read_csv(URL_to_list, sep = \";\")\n",
    "reference_series = reference_list[\"substanz\"].to_list()\n",
    "print(reference_series[0:3])"
   ]
  },
  {
   "cell_type": "code",
   "execution_count": 5,
   "metadata": {},
   "outputs": [
    {
     "data": {
      "text/html": [
       "<div>\n",
       "<style scoped>\n",
       "    .dataframe tbody tr th:only-of-type {\n",
       "        vertical-align: middle;\n",
       "    }\n",
       "\n",
       "    .dataframe tbody tr th {\n",
       "        vertical-align: top;\n",
       "    }\n",
       "\n",
       "    .dataframe thead th {\n",
       "        text-align: right;\n",
       "    }\n",
       "</style>\n",
       "<table border=\"1\" class=\"dataframe\">\n",
       "  <thead>\n",
       "    <tr style=\"text-align: right;\">\n",
       "      <th></th>\n",
       "      <th>ID</th>\n",
       "      <th>Original</th>\n",
       "      <th>Predicted</th>\n",
       "      <th>Similarity</th>\n",
       "    </tr>\n",
       "  </thead>\n",
       "  <tbody>\n",
       "    <tr>\n",
       "      <th>0</th>\n",
       "      <td>1</td>\n",
       "      <td>Cisplatin</td>\n",
       "      <td>Cisplatin</td>\n",
       "      <td>100.0</td>\n",
       "    </tr>\n",
       "    <tr>\n",
       "      <th>1</th>\n",
       "      <td>2</td>\n",
       "      <td>Etoposid</td>\n",
       "      <td>Etoposid</td>\n",
       "      <td>100.0</td>\n",
       "    </tr>\n",
       "    <tr>\n",
       "      <th>2</th>\n",
       "      <td>3</td>\n",
       "      <td>Carboplatin</td>\n",
       "      <td>Carboplatin</td>\n",
       "      <td>100.0</td>\n",
       "    </tr>\n",
       "    <tr>\n",
       "      <th>3</th>\n",
       "      <td>4</td>\n",
       "      <td>Calciumfolinat</td>\n",
       "      <td></td>\n",
       "      <td>0.0</td>\n",
       "    </tr>\n",
       "    <tr>\n",
       "      <th>4</th>\n",
       "      <td>5</td>\n",
       "      <td>Avelumab</td>\n",
       "      <td>Avelumab</td>\n",
       "      <td>100.0</td>\n",
       "    </tr>\n",
       "  </tbody>\n",
       "</table>\n",
       "</div>"
      ],
      "text/plain": [
       "   ID        Original    Predicted  Similarity\n",
       "0   1       Cisplatin    Cisplatin       100.0\n",
       "1   2        Etoposid     Etoposid       100.0\n",
       "2   3     Carboplatin  Carboplatin       100.0\n",
       "3   4  Calciumfolinat                      0.0\n",
       "4   5        Avelumab     Avelumab       100.0"
      ]
     },
     "execution_count": 5,
     "metadata": {},
     "output_type": "execute_result"
    }
   ],
   "source": [
    "ouput_string_matching = get_substances(input_col = example_data,\n",
    "                                        reference_series = reference_series,\n",
    "                                        split_string = True,\n",
    "                                        split_pattern = r\"[;,]\",\n",
    "                                        fuzzy_threshold = 90)\n",
    "ouput_string_matching.to_csv(\"output_string_matchting.csv\", index=False, sep = \";\", quoting=csv.QUOTE_NONNUMERIC)\n",
    "ouput_string_matching.head()"
   ]
  },
  {
   "cell_type": "code",
   "execution_count": 6,
   "metadata": {},
   "outputs": [
    {
     "name": "stdout",
     "output_type": "stream",
     "text": [
      "4268\n",
      "4268\n"
     ]
    }
   ],
   "source": [
    "print(len(example_data))\n",
    "print(len(ouput_string_matching))"
   ]
  }
 ],
 "metadata": {
  "kernelspec": {
   "display_name": "Python 3",
   "language": "python",
   "name": "python3"
  },
  "language_info": {
   "codemirror_mode": {
    "name": "ipython",
    "version": 3
   },
   "file_extension": ".py",
   "mimetype": "text/x-python",
   "name": "python",
   "nbconvert_exporter": "python",
   "pygments_lexer": "ipython3",
   "version": "3.12.7"
  }
 },
 "nbformat": 4,
 "nbformat_minor": 2
}

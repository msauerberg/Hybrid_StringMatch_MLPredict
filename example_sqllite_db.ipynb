{
 "cells": [
  {
   "cell_type": "code",
   "execution_count": 2,
   "metadata": {},
   "outputs": [],
   "source": [
    "import pandas as pd\n",
    "import csv\n",
    "from FuzzySubstanceMatching import get_substances\n",
    "import make_train_data as tr\n",
    "import train_and_predict as tp\n",
    "import numpy as np\n",
    "import sqlite3"
   ]
  },
  {
   "cell_type": "code",
   "execution_count": 3,
   "metadata": {},
   "outputs": [
    {
     "name": "stdout",
     "output_type": "stream",
     "text": [
      "101\n"
     ]
    }
   ],
   "source": [
    "### get data from here https://gitlab.opencode.de/robert-koch-institut/zentrum-fuer-krebsregisterdaten/cancerdata-generator/-/tree/main/assets?ref_type=heads\n",
    "sqlite_con = sqlite3.connect(\"fake_clin_data.db\")\n",
    "free_text_data = pd.read_sql_query(\"SELECT distinct Bezeichnung FROM Substanz\", sqlite_con)\n",
    "sqlite_con.close()\n",
    "\n",
    "example_data = free_text_data[\"Bezeichnung\"] \n",
    "example_data.head()\n",
    "print(len(example_data))"
   ]
  },
  {
   "cell_type": "code",
   "execution_count": 4,
   "metadata": {},
   "outputs": [
    {
     "name": "stdout",
     "output_type": "stream",
     "text": [
      "['Abarelix', 'Abatacept', 'Abemaciclib']\n"
     ]
    }
   ],
   "source": [
    "URL_to_list = \"https://gitlab.opencode.de/robert-koch-institut/zentrum-fuer-krebsregisterdaten/cancerdata-references/-/raw/main/data/v2/Klassifikationen/substanz.csv?ref_type=heads\"\n",
    "reference_list = pd.read_csv(URL_to_list, sep = \";\")\n",
    "reference_series = reference_list[\"substanz\"].to_list()\n",
    "print(reference_series[0:3])"
   ]
  },
  {
   "cell_type": "code",
   "execution_count": 5,
   "metadata": {},
   "outputs": [
    {
     "data": {
      "text/html": [
       "<div>\n",
       "<style scoped>\n",
       "    .dataframe tbody tr th:only-of-type {\n",
       "        vertical-align: middle;\n",
       "    }\n",
       "\n",
       "    .dataframe tbody tr th {\n",
       "        vertical-align: top;\n",
       "    }\n",
       "\n",
       "    .dataframe thead th {\n",
       "        text-align: right;\n",
       "    }\n",
       "</style>\n",
       "<table border=\"1\" class=\"dataframe\">\n",
       "  <thead>\n",
       "    <tr style=\"text-align: right;\">\n",
       "      <th></th>\n",
       "      <th>ID</th>\n",
       "      <th>Original</th>\n",
       "      <th>Predicted</th>\n",
       "      <th>Similarity</th>\n",
       "    </tr>\n",
       "  </thead>\n",
       "  <tbody>\n",
       "    <tr>\n",
       "      <th>0</th>\n",
       "      <td>1</td>\n",
       "      <td></td>\n",
       "      <td></td>\n",
       "      <td>0.0</td>\n",
       "    </tr>\n",
       "    <tr>\n",
       "      <th>1</th>\n",
       "      <td>2</td>\n",
       "      <td>Midostaurin</td>\n",
       "      <td>Midostaurin</td>\n",
       "      <td>100.0</td>\n",
       "    </tr>\n",
       "    <tr>\n",
       "      <th>2</th>\n",
       "      <td>3</td>\n",
       "      <td>Pegfilgrastim</td>\n",
       "      <td>Pegfilgrastim</td>\n",
       "      <td>100.0</td>\n",
       "    </tr>\n",
       "    <tr>\n",
       "      <th>3</th>\n",
       "      <td>4</td>\n",
       "      <td>Prednisolon</td>\n",
       "      <td>Prednisolon</td>\n",
       "      <td>100.0</td>\n",
       "    </tr>\n",
       "    <tr>\n",
       "      <th>4</th>\n",
       "      <td>5</td>\n",
       "      <td>Anastrozol</td>\n",
       "      <td>Anastrozol</td>\n",
       "      <td>100.0</td>\n",
       "    </tr>\n",
       "  </tbody>\n",
       "</table>\n",
       "</div>"
      ],
      "text/plain": [
       "   ID       Original      Predicted  Similarity\n",
       "0   1                                       0.0\n",
       "1   2    Midostaurin    Midostaurin       100.0\n",
       "2   3  Pegfilgrastim  Pegfilgrastim       100.0\n",
       "3   4    Prednisolon    Prednisolon       100.0\n",
       "4   5     Anastrozol     Anastrozol       100.0"
      ]
     },
     "execution_count": 5,
     "metadata": {},
     "output_type": "execute_result"
    }
   ],
   "source": [
    "ouput_string_matching = get_substances(input_col = example_data,\n",
    "                                        reference_series = reference_series,\n",
    "                                        split_string = True,\n",
    "                                        split_pattern = r\"[;,]\",\n",
    "                                        fuzzy_threshold = 90)\n",
    "ouput_string_matching.to_csv(\"output_string_matchting.csv\", index=False, sep = \";\", quoting=csv.QUOTE_NONNUMERIC)\n",
    "ouput_string_matching.head()"
   ]
  },
  {
   "cell_type": "code",
   "execution_count": 6,
   "metadata": {},
   "outputs": [],
   "source": [
    "subset_uncertain_rows = ouput_string_matching[ouput_string_matching[\"Similarity\"] < 90]\n",
    "df_for_predictions = subset_uncertain_rows.copy()\n",
    "df_for_predictions = df_for_predictions.rename(columns={\"Original\": \"input_text\"})\n",
    "filtered_df = df_for_predictions[(df_for_predictions['input_text'] != \"\") & (df_for_predictions['input_text'].notna())]\n",
    "filtered_df.to_csv(\"df_for_predictions.csv\", sep = \";\", index = False, quoting=csv.QUOTE_NONNUMERIC)"
   ]
  },
  {
   "cell_type": "code",
   "execution_count": 7,
   "metadata": {},
   "outputs": [],
   "source": [
    "all_subs = reference_list[\"substanz\"].unique().tolist()\n",
    "\n",
    "train_data = pd.DataFrame({\n",
    "    \"input_text\": all_subs,\n",
    "    \"label\": all_subs\n",
    "})\n",
    "\n",
    "word_list = [\"(o.n.a.)\", \"(wöchentlich)\", \"(i.v.)\", \"(n.n.)\", \"(version)\", \"(lokal)\", \"(zyklus)\"]\n",
    "\n",
    "labeled_train_data = tr.create_labeled_train_data(train_data=train_data, word_list=word_list)\n",
    "labeled_train_data.to_csv(\"labeled_train_data.csv\", sep=\";\", index=False)"
   ]
  },
  {
   "cell_type": "code",
   "execution_count": 8,
   "metadata": {},
   "outputs": [
    {
     "data": {
      "application/vnd.jupyter.widget-view+json": {
       "model_id": "59934103f05a492ea4bc54d33f3db082",
       "version_major": 2,
       "version_minor": 0
      },
      "text/plain": [
       "Computing widget examples:   0%|          | 0/1 [00:00<?, ?example/s]"
      ]
     },
     "metadata": {},
     "output_type": "display_data"
    },
    {
     "data": {
      "text/html": [
       "\n",
       "    <div>\n",
       "      \n",
       "      <progress value='62' max='62' style='width:300px; height:20px; vertical-align: middle;'></progress>\n",
       "      [62/62 00:59, Epoch 1/1]\n",
       "    </div>\n",
       "    <table border=\"1\" class=\"dataframe\">\n",
       "  <thead>\n",
       " <tr style=\"text-align: left;\">\n",
       "      <th>Step</th>\n",
       "      <th>Training Loss</th>\n",
       "      <th>Validation Loss</th>\n",
       "      <th>Val-eval Pearson Cosine</th>\n",
       "      <th>Val-eval Spearman Cosine</th>\n",
       "    </tr>\n",
       "  </thead>\n",
       "  <tbody>\n",
       "    <tr>\n",
       "      <td>62</td>\n",
       "      <td>No log</td>\n",
       "      <td>No log</td>\n",
       "      <td>0.781384</td>\n",
       "      <td>0.816476</td>\n",
       "    </tr>\n",
       "  </tbody>\n",
       "</table><p>"
      ],
      "text/plain": [
       "<IPython.core.display.HTML object>"
      ]
     },
     "metadata": {},
     "output_type": "display_data"
    }
   ],
   "source": [
    "df = tp.load_data(\"labeled_train_data.csv\")\n",
    "df['input_text'] = df['input_text'].astype(str)\n",
    "df['label'] = df['label'].astype(str)\n",
    "\n",
    "train_df, val_df = tp.train_test_split(df, test_size=0.2)\n",
    "train_examples = tp.prepare_train_examples(train_df, add_negative_samples=False)\n",
    "val_examples = tp.prepare_train_examples(val_df, add_negative_samples=True)\n",
    " \n",
    "   \n",
    "model = tp.train_model(train_examples, val_examples, epochs=1) #change to more epochs, this is just a test"
   ]
  },
  {
   "cell_type": "code",
   "execution_count": 9,
   "metadata": {},
   "outputs": [
    {
     "data": {
      "application/vnd.jupyter.widget-view+json": {
       "model_id": "733c446df59c44b9a25e78fa22ce9c0a",
       "version_major": 2,
       "version_minor": 0
      },
      "text/plain": [
       "Batches:   0%|          | 0/13 [00:00<?, ?it/s]"
      ]
     },
     "metadata": {},
     "output_type": "display_data"
    },
    {
     "data": {
      "application/vnd.jupyter.widget-view+json": {
       "model_id": "28a9158d97af4839a397bc547aad4c91",
       "version_major": 2,
       "version_minor": 0
      },
      "text/plain": [
       "Batches:   0%|          | 0/1 [00:00<?, ?it/s]"
      ]
     },
     "metadata": {},
     "output_type": "display_data"
    },
    {
     "name": "stdout",
     "output_type": "stream",
     "text": [
      "Predictions saved to predictions.csv\n"
     ]
    }
   ],
   "source": [
    "df_for_predictions = tp.load_data(\"df_for_predictions.csv\")\n",
    "reference_list_input = reference_list[\"substanz\"].str.strip().unique().tolist()\n",
    "tp.predict_substances_batch(df_for_predictions, model, reference_list_input)"
   ]
  },
  {
   "cell_type": "code",
   "execution_count": 11,
   "metadata": {},
   "outputs": [
    {
     "name": "stdout",
     "output_type": "stream",
     "text": [
      "      ID             Original      Predicted  Similarity           Method Flag\n",
      "0      1                  NaN            NaN        0.00  String_Matching  yes\n",
      "1      2          Midostaurin    Midostaurin      100.00  String_Matching   no\n",
      "2      3        Pegfilgrastim  Pegfilgrastim      100.00  String_Matching   no\n",
      "3      4          Prednisolon    Prednisolon      100.00  String_Matching   no\n",
      "4      5           Anastrozol     Anastrozol      100.00  String_Matching   no\n",
      "..   ...                  ...            ...         ...              ...  ...\n",
      "97    98          Capecitabin    Capecitabin      100.00  String_Matching   no\n",
      "98    99            Prednison      Prednison      100.00  String_Matching   no\n",
      "99   100        Mercaptopurin  Mercaptopurin      100.00  String_Matching   no\n",
      "100  101  Carboplatin (CBCDA)    Carboplatin       57.89  String_Matching  yes\n",
      "112  101  Carboplatin (CBCDA)    Carboplatin        0.94         ML_Model  yes\n",
      "\n",
      "[113 rows x 6 columns]\n"
     ]
    }
   ],
   "source": [
    "model_matches = pd.read_csv(\"predictions.csv\", sep = \";\")\n",
    "model_matches[\"Method\"] = \"ML_Model\"\n",
    "string_matches = pd.read_csv(\"output_string_matchting.csv\", sep = \";\")\n",
    "string_matches[\"Method\"] = \"String_Matching\"\n",
    "\n",
    "extracted_substances = pd.concat([string_matches, model_matches], ignore_index=True).sort_values(by=\"ID\", ascending=True)\n",
    "extracted_substances[\"Flag\"] = np.where(extracted_substances[\"Similarity\"] <= 90, \"yes\", \"no\")\n",
    "\n",
    "print(extracted_substances)"
   ]
  }
 ],
 "metadata": {
  "kernelspec": {
   "display_name": "Python 3",
   "language": "python",
   "name": "python3"
  },
  "language_info": {
   "codemirror_mode": {
    "name": "ipython",
    "version": 3
   },
   "file_extension": ".py",
   "mimetype": "text/x-python",
   "name": "python",
   "nbconvert_exporter": "python",
   "pygments_lexer": "ipython3",
   "version": "3.12.7"
  }
 },
 "nbformat": 4,
 "nbformat_minor": 2
}
